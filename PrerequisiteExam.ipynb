{
 "cells": [
  {
   "cell_type": "code",
   "execution_count": 159,
   "metadata": {},
   "outputs": [],
   "source": [
    "import numpy as np\n",
    "import matplotlib.pyplot as plt\n",
    "import pandas as pd\n",
    "import sympy as smp\n",
    "from ipywidgets import interact"
   ]
  },
  {
   "cell_type": "markdown",
   "metadata": {},
   "source": [
    "#### 1) How many multiplications and additions do you need to perform a matrix multiplication between a (n, k) and (k, m) matrix? Explain."
   ]
  },
  {
   "cell_type": "markdown",
   "metadata": {},
   "source": [
    "$$\n",
    "nmk\n",
    "$$"
   ]
  },
  {
   "cell_type": "markdown",
   "metadata": {},
   "source": [
    "##### Explanation: "
   ]
  },
  {
   "cell_type": "markdown",
   "metadata": {},
   "source": [
    "The output of the matrix multiplication will be a matrix of shape (n, m) .\n",
    "For example :"
   ]
  },
  {
   "cell_type": "code",
   "execution_count": 119,
   "metadata": {},
   "outputs": [
    {
     "name": "stdout",
     "output_type": "stream",
     "text": [
      "M1 :\n",
      " [[ 1  4  5]\n",
      " [ 3 -9 -9]\n",
      " [-5  6  9]\n",
      " [-2  8  5]\n",
      " [ 9  7 -4]]\n",
      "shape : (5, 3)\n",
      "\n",
      "\n",
      "M2 :\n",
      " [[ 1  4  5]\n",
      " [ 3 -9 -9]\n",
      " [-5  6  9]\n",
      " [-2  8  5]\n",
      " [ 9  7 -4]]\n",
      "shape : (3, 4)\n"
     ]
    }
   ],
   "source": [
    "m, n, k = 4, 5, 3\n",
    "M1 = np.random.randint(-9,10,(n,k))\n",
    "M2 = np.random.randint(-9,10,(k,m))\n",
    "print(\"M1 :\\n\",M1)\n",
    "print(\"shape :\",M1.shape)\n",
    "print('\\n')\n",
    "print(\"M2 :\\n\",M1)\n",
    "print(\"shape :\",M2.shape)"
   ]
  },
  {
   "cell_type": "code",
   "execution_count": 120,
   "metadata": {},
   "outputs": [
    {
     "name": "stdout",
     "output_type": "stream",
     "text": [
      "M1 @ M2 :\n",
      " [[-39  11 -14  16]\n",
      " [ 30   6  51 -48]\n",
      " [-17 -43 -58  56]\n",
      " [-11  15 -33  28]\n",
      " [-37 141  50 -52]]\n",
      "shape : (5, 4)\n"
     ]
    }
   ],
   "source": [
    "out = np.matmul(M1,M2)\n",
    "print(\"M1 @ M2 :\\n\",out )\n",
    "print(\"shape :\",out.shape)"
   ]
  },
  {
   "cell_type": "markdown",
   "metadata": {},
   "source": [
    "#### 2) Write Python code to multiply the above two matrices. Solve using list of lists and then use numpy. Compare the timing of both solutions. Which one is faster? Why?"
   ]
  },
  {
   "cell_type": "markdown",
   "metadata": {},
   "source": [
    "##### A function 'matrix_multiply' to multiply matrices as lists"
   ]
  },
  {
   "cell_type": "code",
   "execution_count": 121,
   "metadata": {},
   "outputs": [
    {
     "name": "stdout",
     "output_type": "stream",
     "text": [
      "M1 @ M2 (self made function):\n",
      "-39\t11\t-14\t16\n",
      "30\t6\t51\t-48\n",
      "-17\t-43\t-58\t56\n",
      "-11\t15\t-33\t28\n",
      "-37\t141\t50\t-52\n",
      "\n",
      "M1 @ M2 (numpy):\n",
      " [[-39  11 -14  16]\n",
      " [ 30   6  51 -48]\n",
      " [-17 -43 -58  56]\n",
      " [-11  15 -33  28]\n",
      " [-37 141  50 -52]]\n"
     ]
    }
   ],
   "source": [
    "def matrix_multiply(M1 : list,M2 : list):\n",
    "    out = []\n",
    "    n = len(M1)\n",
    "    k = len(M1[0])\n",
    "    if len(M2) != k:\n",
    "        print(\"shape mismatch\")\n",
    "        return False\n",
    "    m = len(M2[0])\n",
    "    for i in range(n):\n",
    "        row = [0]*m\n",
    "        for j in range(m):\n",
    "            for K in range(k):\n",
    "                row[j] += M1[i][K] * M2[K][j]\n",
    "        out.append(row)\n",
    "    return out\n",
    "\n",
    "M1L = list(M1)\n",
    "M2L = list(M2)\n",
    "print(\"M1 @ M2 (self made function):\")\n",
    "for row in matrix_multiply(M1L,M2L):\n",
    "    row = [str(x) for x in row]\n",
    "    print(\"\\t\".join(row))\n",
    "print(\"\\nM1 @ M2 (numpy):\\n\",np.matmul(M1,M2))"
   ]
  },
  {
   "cell_type": "markdown",
   "metadata": {},
   "source": [
    "##### Time comparision"
   ]
  },
  {
   "cell_type": "markdown",
   "metadata": {},
   "source": [
    "matrix_multiply (self-made)"
   ]
  },
  {
   "cell_type": "code",
   "execution_count": 122,
   "metadata": {},
   "outputs": [
    {
     "name": "stdout",
     "output_type": "stream",
     "text": [
      "50 µs ± 14.4 µs per loop (mean ± std. dev. of 7 runs, 10,000 loops each)\n"
     ]
    }
   ],
   "source": [
    "%%timeit\n",
    "matrix_multiply(M1L,M2L)"
   ]
  },
  {
   "cell_type": "markdown",
   "metadata": {},
   "source": [
    "numpy.matmul"
   ]
  },
  {
   "cell_type": "code",
   "execution_count": 123,
   "metadata": {},
   "outputs": [
    {
     "name": "stdout",
     "output_type": "stream",
     "text": [
      "2.68 µs ± 155 ns per loop (mean ± std. dev. of 7 runs, 100,000 loops each)\n"
     ]
    }
   ],
   "source": [
    "%%timeit\n",
    "np.matmul(M1,M2)"
   ]
  },
  {
   "cell_type": "markdown",
   "metadata": {},
   "source": [
    "Conclusion : \n",
    "Numpy is faster. This is because firstly, it is written in C/C++, which is a faster language than python. (The same for-loop in C runs quicker than in python)"
   ]
  },
  {
   "cell_type": "markdown",
   "metadata": {},
   "source": [
    "#### 3) Finding the highest element in a list requires one pass of the array. Finding the second highest element requires 2 passes of the the array. Using this method, what is the time complexity of finding the median of the array? Can you suggest a better method? Can you implement both these methods in Python and compare against numpy.median routine in terms of time?"
   ]
  },
  {
   "cell_type": "markdown",
   "metadata": {},
   "source": [
    "##### For an array of size n, this method will have the worst case time complexity of $$ O(n^2) $$"
   ]
  },
  {
   "cell_type": "code",
   "execution_count": 124,
   "metadata": {},
   "outputs": [
    {
     "name": "stdout",
     "output_type": "stream",
     "text": [
      " array :\t [8, -3, -6, 0, 0, -5, -4, -8, -2, 9]\n",
      " sorted array :\t [-8, -6, -5, -4, -3, -2, 0, 0, 8, 9]\n",
      " median (bubble):\t -2.5\n",
      " median (numpy) :\t -2.5\n"
     ]
    }
   ],
   "source": [
    "def bubble_median(L : list):\n",
    "    \"\"\"\n",
    "    L : list to find median in.\n",
    "    \"\"\"\n",
    "    L = L.copy() # this line runs in O(n)\n",
    "    l = len(L) # this line runs in O(n)\n",
    "    for i in range(l//2 +1):\n",
    "        for j in range(l-1,i,-1):\n",
    "            if L[j] < L[i]:\n",
    "                L[i],L[j] = L[j],L[i]\n",
    "    if l%2 == 0:\n",
    "        return (L[l//2] + L[l//2 -1])/2\n",
    "    return L[l//2]\n",
    "L = list(np.random.randint(-9,10,10))\n",
    "print(\" array :\\t\",L)\n",
    "L_s = sorted(L)\n",
    "print(\" sorted array :\\t\",L_s)\n",
    "print(\" median (bubble):\\t\",bubble_median(L))\n",
    "print(\" median (numpy) :\\t\",np.median(L))\n"
   ]
  },
  {
   "cell_type": "markdown",
   "metadata": {},
   "source": [
    "##### A better method is to first sort the whole array using heap sort or merge sort, which will have worst case time complexity of $$ O(n \\log n) $$ Then, we can find the median easily."
   ]
  },
  {
   "cell_type": "code",
   "execution_count": 125,
   "metadata": {},
   "outputs": [
    {
     "name": "stdout",
     "output_type": "stream",
     "text": [
      "before head sort :\t [6, 6, -4, 8, -4, 8, 4, -8, -5, 9, -9]\n",
      "after heap sort :\t [9, 8, 8, 6, 6, 4, -4, -4, -5, -8, -9]\n"
     ]
    }
   ],
   "source": [
    "#Implementing Heap sort\n",
    "\n",
    "def push_down(L,i,n):\n",
    "    m = i\n",
    "    if 2*i+1<n and L[2*i+1]<L[m]:\n",
    "        m = 2*i+1\n",
    "    if 2*i+2<n and L[2*i+2]<L[m]:\n",
    "        m = 2*i+2\n",
    "    if m==i:\n",
    "        return\n",
    "    L[i],L[m] = L[m],L[i]\n",
    "    push_down(L,m,n)\n",
    "\n",
    "def heapify(L,i,n):\n",
    "    if 2*i+1 < n:\n",
    "        heapify(L,2*i+1,n)\n",
    "    if 2*i+2 < n:\n",
    "        heapify(L,2*i+2,n)\n",
    "    push_down(L,i,n)\n",
    "def heap_sort(L):\n",
    "    n = len(L)\n",
    "    heapify(L,0,n)\n",
    "    while n > 1:\n",
    "        L[0],L[n-1] = L[n-1],L[0]\n",
    "        n -= 1\n",
    "        push_down(L,0,n)\n",
    "    pass\n",
    "\n",
    "L = list(np.random.randint(-9,10,11))\n",
    "print(\"before head sort :\\t\",L)\n",
    "heap_sort(L)\n",
    "print(\"after heap sort :\\t\",L)"
   ]
  },
  {
   "cell_type": "code",
   "execution_count": 126,
   "metadata": {},
   "outputs": [],
   "source": [
    "def heap_median(L):\n",
    "    L = L.copy()\n",
    "    l = len(L)\n",
    "    heap_sort(L)\n",
    "    if l%2 == 0:\n",
    "        return (L[l//2] + L[l//2 -1])/2\n",
    "    return L[l//2]"
   ]
  },
  {
   "cell_type": "code",
   "execution_count": 127,
   "metadata": {},
   "outputs": [
    {
     "name": "stdout",
     "output_type": "stream",
     "text": [
      " array :\t [-8, 3, -3, -7, -3, 2, 4, 6, -5, 8]\n",
      " median (heap_sort):\t -0.5\n",
      " median (numpy) :\t -0.5\n"
     ]
    }
   ],
   "source": [
    "L = list(np.random.randint(-9,10,10))\n",
    "print(\" array :\\t\",L)\n",
    "print(\" median (heap_sort):\\t\",heap_median(L))\n",
    "print(\" median (numpy) :\\t\",np.median(L))"
   ]
  },
  {
   "cell_type": "code",
   "execution_count": 128,
   "metadata": {},
   "outputs": [],
   "source": [
    "Larray = np.random.randint(-9,10,1000) \n",
    "# It's necessary to have a large array size for heap_median to do better. \n",
    "# Try with size 10 and bubble_median would do better\n",
    "L = list(Larray)"
   ]
  },
  {
   "cell_type": "markdown",
   "metadata": {},
   "source": [
    "##### Time comparision"
   ]
  },
  {
   "cell_type": "markdown",
   "metadata": {},
   "source": [
    "O(n^2) method"
   ]
  },
  {
   "cell_type": "code",
   "execution_count": 129,
   "metadata": {},
   "outputs": [
    {
     "name": "stdout",
     "output_type": "stream",
     "text": [
      "51.1 ms ± 9.18 ms per loop (mean ± std. dev. of 7 runs, 10 loops each)\n"
     ]
    }
   ],
   "source": [
    "%%timeit\n",
    "bubble_median(L)"
   ]
  },
  {
   "cell_type": "markdown",
   "metadata": {},
   "source": [
    "O(n*log(n)) method"
   ]
  },
  {
   "cell_type": "code",
   "execution_count": 130,
   "metadata": {},
   "outputs": [
    {
     "name": "stdout",
     "output_type": "stream",
     "text": [
      "9.54 ms ± 875 µs per loop (mean ± std. dev. of 7 runs, 100 loops each)\n"
     ]
    }
   ],
   "source": [
    "%%timeit\n",
    "heap_median(L)"
   ]
  },
  {
   "cell_type": "markdown",
   "metadata": {},
   "source": [
    "numpy.median"
   ]
  },
  {
   "cell_type": "code",
   "execution_count": 131,
   "metadata": {},
   "outputs": [
    {
     "name": "stdout",
     "output_type": "stream",
     "text": [
      "48.8 µs ± 10.3 µs per loop (mean ± std. dev. of 7 runs, 10,000 loops each)\n"
     ]
    }
   ],
   "source": [
    "%%timeit\n",
    "np.median(Larray)"
   ]
  },
  {
   "cell_type": "markdown",
   "metadata": {},
   "source": [
    "#### 4) What is the gradient of the following function with respect to x and y ? $$ x^2y + y^3\\sin(x) $$"
   ]
  },
  {
   "cell_type": "markdown",
   "metadata": {},
   "source": [
    "##### Answer"
   ]
  },
  {
   "cell_type": "markdown",
   "metadata": {},
   "source": [
    "$$\n",
    "\\begin{bmatrix} \n",
    "2xy + y^3\\cos(x) \\\\\n",
    "x^2 + 3y^2\\sin(x)\n",
    "\\end{bmatrix}\n",
    "$$"
   ]
  },
  {
   "cell_type": "markdown",
   "metadata": {},
   "source": [
    "##### Explanation"
   ]
  },
  {
   "cell_type": "markdown",
   "metadata": {},
   "source": [
    "For $$ f(x,y) = x^2y + y^3\\sin(x) $$ , we have \n",
    "$$\n",
    "\\frac{\\partial f}{\\partial x} = 2xy + y^3\\cos(x) \\\\ \n",
    "\\frac{\\partial f}{\\partial y} = x^2 + 3y^2\\sin(x)\n",
    "$$ as the partial derivatives of f wrt x and y respectively. \n",
    "Thus the gradient is given by\n",
    "$$ \n",
    "\\nabla f = \n",
    "\\begin{bmatrix} \n",
    "{\\frac{\\partial f}{\\partial x}} \\\\\n",
    "{\\frac{\\partial f}{\\partial y}}\n",
    "\\end{bmatrix} = \n",
    "\\begin{bmatrix} \n",
    "2xy + y^3\\cos(x) \\\\\n",
    "x^2 + 3y^2\\sin(x)\n",
    "\\end{bmatrix}\n",
    "$$"
   ]
  },
  {
   "cell_type": "markdown",
   "metadata": {},
   "source": [
    "#### 5) Use JAX to confirm the gradient evaluated by your method matches the analytical solution corresponding to a few random values of x and y"
   ]
  },
  {
   "cell_type": "markdown",
   "metadata": {},
   "source": [
    "jax couldn't be imported correctly on my device, so I'm just going to find the gradiet numericaly myself. "
   ]
  },
  {
   "cell_type": "code",
   "execution_count": 132,
   "metadata": {},
   "outputs": [],
   "source": [
    "def f(x,y):\n",
    "    return x**2 *y + y**3 * np.sin(x)"
   ]
  },
  {
   "cell_type": "code",
   "execution_count": 144,
   "metadata": {},
   "outputs": [],
   "source": [
    "def nabla_f(x,y):\n",
    "    dfdx = 2*x*y + (y**3)*np.cos(x)\n",
    "    dfdy = x**2 + 3*(y**2)*np.sin(x)\n",
    "    return np.array([dfdx,dfdy])\n",
    "def nabla_f_numerical(x,y):\n",
    "    dy = dx = 10**-10\n",
    "    dfdx = (f(x+dx,y)-f(x,y))/dx\n",
    "    dfdy = (f(x,y+dy)-f(x,y))/dy\n",
    "    return np.array([dfdx,dfdy])"
   ]
  },
  {
   "cell_type": "code",
   "execution_count": 145,
   "metadata": {},
   "outputs": [
    {
     "data": {
      "text/html": [
       "<div>\n",
       "<style scoped>\n",
       "    .dataframe tbody tr th:only-of-type {\n",
       "        vertical-align: middle;\n",
       "    }\n",
       "\n",
       "    .dataframe tbody tr th {\n",
       "        vertical-align: top;\n",
       "    }\n",
       "\n",
       "    .dataframe thead th {\n",
       "        text-align: right;\n",
       "    }\n",
       "</style>\n",
       "<table border=\"1\" class=\"dataframe\">\n",
       "  <thead>\n",
       "    <tr style=\"text-align: right;\">\n",
       "      <th></th>\n",
       "      <th>x</th>\n",
       "      <th>y</th>\n",
       "      <th>nabla_f (analytical)</th>\n",
       "      <th>nabla_f (numerical)</th>\n",
       "      <th>error</th>\n",
       "    </tr>\n",
       "  </thead>\n",
       "  <tbody>\n",
       "    <tr>\n",
       "      <th>0</th>\n",
       "      <td>0.603207</td>\n",
       "      <td>0.081237</td>\n",
       "      <td>[0.0984472384121951, 0.37509013242582806]</td>\n",
       "      <td>[0.09844729198515978, 0.37509013256498136]</td>\n",
       "      <td>5.357315e-08</td>\n",
       "    </tr>\n",
       "    <tr>\n",
       "      <th>1</th>\n",
       "      <td>0.953510</td>\n",
       "      <td>0.463186</td>\n",
       "      <td>[0.9408241435239711, 1.434025767813076]</td>\n",
       "      <td>[0.9408240853048255, 1.4340251208722066]</td>\n",
       "      <td>6.495552e-07</td>\n",
       "    </tr>\n",
       "    <tr>\n",
       "      <th>2</th>\n",
       "      <td>0.279141</td>\n",
       "      <td>0.103584</td>\n",
       "      <td>[0.05889757455545343, 0.08678887574654802]</td>\n",
       "      <td>[0.05889757431765119, 0.08678887469804053]</td>\n",
       "      <td>1.075136e-09</td>\n",
       "    </tr>\n",
       "    <tr>\n",
       "      <th>3</th>\n",
       "      <td>0.929649</td>\n",
       "      <td>0.436653</td>\n",
       "      <td>[0.8616643838989398, 1.3226526762029076]</td>\n",
       "      <td>[0.8616640734260272, 1.322653098156934]</td>\n",
       "      <td>5.238689e-07</td>\n",
       "    </tr>\n",
       "    <tr>\n",
       "      <th>4</th>\n",
       "      <td>0.371364</td>\n",
       "      <td>0.700691</td>\n",
       "      <td>[0.8409896755621887, 0.6724093557722642]</td>\n",
       "      <td>[0.8409900553729699, 0.6724093504217876]</td>\n",
       "      <td>3.798485e-07</td>\n",
       "    </tr>\n",
       "    <tr>\n",
       "      <th>5</th>\n",
       "      <td>0.916689</td>\n",
       "      <td>0.177631</td>\n",
       "      <td>[0.3290749564880871, 0.9154382883079689]</td>\n",
       "      <td>[0.3290751005025072, 0.9154385582910152]</td>\n",
       "      <td>3.059918e-07</td>\n",
       "    </tr>\n",
       "    <tr>\n",
       "      <th>6</th>\n",
       "      <td>0.000931</td>\n",
       "      <td>0.982969</td>\n",
       "      <td>[0.9516015957998011, 0.002699502901244806]</td>\n",
       "      <td>[0.9516015970004177, 0.0026995018633652057]</td>\n",
       "      <td>1.587033e-09</td>\n",
       "    </tr>\n",
       "    <tr>\n",
       "      <th>7</th>\n",
       "      <td>0.699205</td>\n",
       "      <td>0.869528</td>\n",
       "      <td>[1.7191232175974895, 1.9487440508617968]</td>\n",
       "      <td>[1.719123732257799, 1.9487444991028724]</td>\n",
       "      <td>6.824920e-07</td>\n",
       "    </tr>\n",
       "    <tr>\n",
       "      <th>8</th>\n",
       "      <td>0.306979</td>\n",
       "      <td>0.896181</td>\n",
       "      <td>[1.2363300984261871, 0.8223169633624785]</td>\n",
       "      <td>[1.2363304824347665, 0.8223177694333117]</td>\n",
       "      <td>8.928677e-07</td>\n",
       "    </tr>\n",
       "    <tr>\n",
       "      <th>9</th>\n",
       "      <td>0.277963</td>\n",
       "      <td>0.734110</td>\n",
       "      <td>[0.7885501028669217, 0.5208956366427778]</td>\n",
       "      <td>[0.7885503361393376, 0.5208958264724117]</td>\n",
       "      <td>3.007512e-07</td>\n",
       "    </tr>\n",
       "  </tbody>\n",
       "</table>\n",
       "</div>"
      ],
      "text/plain": [
       "          x         y                        nabla_f (analytical)  \\\n",
       "0  0.603207  0.081237   [0.0984472384121951, 0.37509013242582806]   \n",
       "1  0.953510  0.463186     [0.9408241435239711, 1.434025767813076]   \n",
       "2  0.279141  0.103584  [0.05889757455545343, 0.08678887574654802]   \n",
       "3  0.929649  0.436653    [0.8616643838989398, 1.3226526762029076]   \n",
       "4  0.371364  0.700691    [0.8409896755621887, 0.6724093557722642]   \n",
       "5  0.916689  0.177631    [0.3290749564880871, 0.9154382883079689]   \n",
       "6  0.000931  0.982969  [0.9516015957998011, 0.002699502901244806]   \n",
       "7  0.699205  0.869528    [1.7191232175974895, 1.9487440508617968]   \n",
       "8  0.306979  0.896181    [1.2363300984261871, 0.8223169633624785]   \n",
       "9  0.277963  0.734110    [0.7885501028669217, 0.5208956366427778]   \n",
       "\n",
       "                           nabla_f (numerical)         error  \n",
       "0   [0.09844729198515978, 0.37509013256498136]  5.357315e-08  \n",
       "1     [0.9408240853048255, 1.4340251208722066]  6.495552e-07  \n",
       "2   [0.05889757431765119, 0.08678887469804053]  1.075136e-09  \n",
       "3      [0.8616640734260272, 1.322653098156934]  5.238689e-07  \n",
       "4     [0.8409900553729699, 0.6724093504217876]  3.798485e-07  \n",
       "5     [0.3290751005025072, 0.9154385582910152]  3.059918e-07  \n",
       "6  [0.9516015970004177, 0.0026995018633652057]  1.587033e-09  \n",
       "7      [1.719123732257799, 1.9487444991028724]  6.824920e-07  \n",
       "8     [1.2363304824347665, 0.8223177694333117]  8.928677e-07  \n",
       "9     [0.7885503361393376, 0.5208958264724117]  3.007512e-07  "
      ]
     },
     "execution_count": 145,
     "metadata": {},
     "output_type": "execute_result"
    }
   ],
   "source": [
    "data = np.random.random((10,2))\n",
    "nf = []\n",
    "nfjx = []\n",
    "er = []\n",
    "for i in range(data.shape[0]):\n",
    "    nf.append(nabla_f(*data[i]))\n",
    "    nfjx.append(nabla_f_numerical(*data[i]))\n",
    "    er.append(np.linalg.norm(nf[i]-nfjx[i]))\n",
    "data = {\n",
    "    \"x\":data[:,0],\n",
    "    \"y\":data[:,1],\n",
    "    \"nabla_f (analytical)\":nf,\n",
    "    \"nabla_f (numerical)\":nfjx,\n",
    "    \"error\":er\n",
    "}\n",
    "df = pd.DataFrame(data)\n",
    "df"
   ]
  },
  {
   "cell_type": "markdown",
   "metadata": {},
   "source": [
    "#### 6) Use sympy to confirm that you obtain the same gradient analytically."
   ]
  },
  {
   "cell_type": "code",
   "execution_count": 152,
   "metadata": {},
   "outputs": [
    {
     "data": {
      "text/latex": [
       "$\\displaystyle \\left[\\begin{matrix}2 x y + y^{3} \\cos{\\left(x \\right)}\\\\x^{2} + 3 y^{2} \\sin{\\left(x \\right)}\\end{matrix}\\right]$"
      ],
      "text/plain": [
       "Matrix([\n",
       "[ 2*x*y + y**3*cos(x)],\n",
       "[x**2 + 3*y**2*sin(x)]])"
      ]
     },
     "execution_count": 152,
     "metadata": {},
     "output_type": "execute_result"
    }
   ],
   "source": [
    "x,y = smp.symbols('x, y')\n",
    "f = x**2 * y + y**3 * smp.sin(x)\n",
    "f_as_mat = smp.Matrix([f])\n",
    "f_free_var_mat = smp.Matrix(list(f.free_symbols))\n",
    "f_grad = smp.transpose(f_as_mat.jacobian(f_free_var_mat))\n",
    "f_grad"
   ]
  },
  {
   "cell_type": "markdown",
   "metadata": {},
   "source": [
    "#### 7) Create a Python nested dictionary to represent hierarchical information. We want to store record of students and their marks. Something like:"
   ]
  },
  {
   "cell_type": "markdown",
   "metadata": {},
   "source": [
    "1. 2022\n",
    "   1. Branch 1\n",
    "      1. Roll Number: 1, Name: N, Marks:\n",
    "         1. Maths: 100, English: 70 …\n",
    "   2. Branch 2\n",
    "2. 2023\n",
    "   1. Branch 1\n",
    "   2. Branch 2\n",
    "3. 2024\n",
    "   1. Branch 1\n",
    "   2. Branch 2\n",
    "4. 2025\n",
    "   1. Branch 1\n",
    "   2. Branch 2"
   ]
  },
  {
   "cell_type": "code",
   "execution_count": 153,
   "metadata": {},
   "outputs": [
    {
     "name": "stdout",
     "output_type": "stream",
     "text": [
      "{'Roll number': 1, 'Name': 'N', 'Marks': {'Maths': 100, 'English': 70}}\n"
     ]
    }
   ],
   "source": [
    "D = {\n",
    "    2022:{\n",
    "        \"Branch 1\":{\n",
    "            1: {\"Roll number\":1,\n",
    "                \"Name\":\"N\",\n",
    "                \"Marks\":{\n",
    "                    \"Maths\":100,\n",
    "                    \"English\":70,\n",
    "                }}\n",
    "        },\n",
    "        \"Branch 2\":{\n",
    "        },\n",
    "    },\n",
    "    2023:{\n",
    "        \"Branch 1\":{\n",
    "        },\n",
    "        \"Branch 2\":{\n",
    "        },\n",
    "    },\n",
    "    2024:{\n",
    "        \"Branch 1\":{\n",
    "        },\n",
    "        \"Branch 2\":{\n",
    "        },\n",
    "    },\n",
    "    2025:{\n",
    "        \"Branch 1\":{\n",
    "        },\n",
    "        \"Branch 2\":{\n",
    "        },\n",
    "    },\n",
    "}\n",
    "year2022 = D[2022]\n",
    "year2022Branch1 = year2022[\"Branch 1\"]\n",
    "year2022Branch1Student1 = year2022Branch1[1]\n",
    "print(year2022Branch1Student1) # prints details of student"
   ]
  },
  {
   "cell_type": "markdown",
   "metadata": {},
   "source": [
    "#### 8) Store the same information using Python classes. We have an overall database which is a list of year objects. Each year contains a list of branches. Each branch contains a list of students. Each student has some properties like name, roll number and has marks in some subjects."
   ]
  },
  {
   "cell_type": "code",
   "execution_count": 156,
   "metadata": {},
   "outputs": [
    {
     "data": {
      "text/plain": [
       "[Year 2023, Year 2024, Year 2025]"
      ]
     },
     "execution_count": 156,
     "metadata": {},
     "output_type": "execute_result"
    }
   ],
   "source": [
    "class Student:\n",
    "    def __init__(self,name:str,roll_no:int,marks:dict):\n",
    "        self.name = name\n",
    "        self.roll_no = roll_no\n",
    "        self.marks = marks\n",
    "class Branch:\n",
    "    def __init__(self,students:list,name:str):\n",
    "        if len(students) != 0 and not isinstance(students[0],Student):\n",
    "            raise TypeError\n",
    "        self.students = students\n",
    "        self.name = name\n",
    "class Year:\n",
    "    def __init__(self,branches:list,year:int):\n",
    "        if len(branches) != 0 and not isinstance(branches[0],Branch):\n",
    "            raise TypeError\n",
    "        self.year = year\n",
    "        self.branches = branches\n",
    "    def __repr__(self) -> str:\n",
    "        return \"Year \"+str(self.year)\n",
    "\n",
    "year2022Branch1Student1 = Student('N',1,{'Maths':100,\"English\":70})\n",
    "year2022Branch1 = Branch([year2022Branch1Student1],'Branch 1')\n",
    "year2022Branch2 = Branch([],'Branch 2')\n",
    "year2022 = Year([year2022Branch1,year2022Branch1],2022)\n",
    "D = []\n",
    "for year in range(2023,2026):\n",
    "    B = []\n",
    "    for branch in range(1,3):\n",
    "        b = Branch([],f'Branch {branch}')\n",
    "        B.append(b)\n",
    "    Y = Year(B,year)\n",
    "    D.append(Y)\n",
    "D # this is the overall database"
   ]
  },
  {
   "cell_type": "markdown",
   "metadata": {},
   "source": [
    "#### 9) Using matplotlib plot the following functions on the domain: x = 0.5 to 100.0 in steps of 0.5."
   ]
  },
  {
   "cell_type": "markdown",
   "metadata": {},
   "source": [
    "$$\n",
    "y = x \\\\\n",
    "y = x^2 \\\\\n",
    "y = \\frac{x^3}{100} \\\\ \n",
    "y = \\sin(x) \\\\\n",
    "y = \\frac{\\sin(x)}{x} \\\\\n",
    "y = \\log(x) \\\\\n",
    "y = e^x\n",
    "$$"
   ]
  },
  {
   "cell_type": "code",
   "execution_count": 172,
   "metadata": {},
   "outputs": [
    {
     "data": {
      "application/vnd.jupyter.widget-view+json": {
       "model_id": "023c60e5e33444a089f038b9b1263df4",
       "version_major": 2,
       "version_minor": 0
      },
      "text/plain": [
       "interactive(children=(IntSlider(value=3, description='i', max=6), Output()), _dom_classes=('widget-interact',)…"
      ]
     },
     "metadata": {},
     "output_type": "display_data"
    },
    {
     "data": {
      "text/plain": [
       "<function __main__.update(i=(0, 6))>"
      ]
     },
     "execution_count": 172,
     "metadata": {},
     "output_type": "execute_result"
    }
   ],
   "source": [
    "x = np.arange(0.5,100.5,0.5)\n",
    "fL = {\n",
    "    r\"x\":x,\n",
    "    r\"x^2\":x**2,\n",
    "    r\"\\frac{x^3}{100}\":0.01*x**3,\n",
    "    r\"\\sin(x)\":np.sin(x),\n",
    "    r\"\\frac{\\sin(x)}{x}\":np.sin(x)/x,\n",
    "    r\"\\log(x)\":np.log(x),\n",
    "    r\"e^x\":np.exp(x),\n",
    "}\n",
    "fnames = list(fL.keys())\n",
    "def update(i=(0,len(fnames)-1)):\n",
    "    y = fL[fnames[i%len(fnames)]]\n",
    "    plt.plot(x,y)\n",
    "    plt.title('$ y = '+fnames[i]+'$')\n",
    "    plt.xlabel('x')\n",
    "    plt.ylabel('y')\n",
    "    plt.xlim(0.5,100)\n",
    "interact(update)"
   ]
  },
  {
   "cell_type": "markdown",
   "metadata": {},
   "source": [
    "#### 10) Using numpy generate a matrix of size 20X5 containing random numbers drawn uniformly from the range of 1 to 2. Using Pandas create a dataframe out of this matrix. Name the columns of the dataframe as “a”, “b”, “c”, “d”, “e”. Find the column with the highest standard deviation. Find the row with the lowest mean."
   ]
  },
  {
   "cell_type": "markdown",
   "metadata": {},
   "source": [
    "##### Creating the dataframe"
   ]
  },
  {
   "cell_type": "code",
   "execution_count": 184,
   "metadata": {},
   "outputs": [
    {
     "data": {
      "text/html": [
       "<div>\n",
       "<style scoped>\n",
       "    .dataframe tbody tr th:only-of-type {\n",
       "        vertical-align: middle;\n",
       "    }\n",
       "\n",
       "    .dataframe tbody tr th {\n",
       "        vertical-align: top;\n",
       "    }\n",
       "\n",
       "    .dataframe thead th {\n",
       "        text-align: right;\n",
       "    }\n",
       "</style>\n",
       "<table border=\"1\" class=\"dataframe\">\n",
       "  <thead>\n",
       "    <tr style=\"text-align: right;\">\n",
       "      <th></th>\n",
       "      <th>a</th>\n",
       "      <th>b</th>\n",
       "      <th>c</th>\n",
       "      <th>d</th>\n",
       "      <th>e</th>\n",
       "    </tr>\n",
       "  </thead>\n",
       "  <tbody>\n",
       "    <tr>\n",
       "      <th>0</th>\n",
       "      <td>1.233081</td>\n",
       "      <td>1.319864</td>\n",
       "      <td>1.080084</td>\n",
       "      <td>1.766753</td>\n",
       "      <td>1.840640</td>\n",
       "    </tr>\n",
       "    <tr>\n",
       "      <th>1</th>\n",
       "      <td>1.746974</td>\n",
       "      <td>1.263662</td>\n",
       "      <td>1.285128</td>\n",
       "      <td>1.926436</td>\n",
       "      <td>1.189499</td>\n",
       "    </tr>\n",
       "    <tr>\n",
       "      <th>2</th>\n",
       "      <td>1.524891</td>\n",
       "      <td>1.583942</td>\n",
       "      <td>1.196542</td>\n",
       "      <td>1.132966</td>\n",
       "      <td>1.291286</td>\n",
       "    </tr>\n",
       "    <tr>\n",
       "      <th>3</th>\n",
       "      <td>1.036298</td>\n",
       "      <td>1.966514</td>\n",
       "      <td>1.121429</td>\n",
       "      <td>1.746969</td>\n",
       "      <td>1.668335</td>\n",
       "    </tr>\n",
       "    <tr>\n",
       "      <th>4</th>\n",
       "      <td>1.380449</td>\n",
       "      <td>1.987079</td>\n",
       "      <td>1.384848</td>\n",
       "      <td>1.762399</td>\n",
       "      <td>1.502413</td>\n",
       "    </tr>\n",
       "  </tbody>\n",
       "</table>\n",
       "</div>"
      ],
      "text/plain": [
       "          a         b         c         d         e\n",
       "0  1.233081  1.319864  1.080084  1.766753  1.840640\n",
       "1  1.746974  1.263662  1.285128  1.926436  1.189499\n",
       "2  1.524891  1.583942  1.196542  1.132966  1.291286\n",
       "3  1.036298  1.966514  1.121429  1.746969  1.668335\n",
       "4  1.380449  1.987079  1.384848  1.762399  1.502413"
      ]
     },
     "execution_count": 184,
     "metadata": {},
     "output_type": "execute_result"
    }
   ],
   "source": [
    "M = 1+np.random.random((20,5))\n",
    "D = pd.DataFrame(M)\n",
    "D.columns = [\"a\",\"b\",\"c\",\"d\",\"e\"]\n",
    "D.head()"
   ]
  },
  {
   "cell_type": "markdown",
   "metadata": {},
   "source": [
    "##### Standard deviations of columns"
   ]
  },
  {
   "cell_type": "code",
   "execution_count": 185,
   "metadata": {},
   "outputs": [
    {
     "data": {
      "text/plain": [
       "a    0.273625\n",
       "b    0.310687\n",
       "c    0.278837\n",
       "d    0.253916\n",
       "e    0.288970\n",
       "dtype: float64"
      ]
     },
     "execution_count": 185,
     "metadata": {},
     "output_type": "execute_result"
    }
   ],
   "source": [
    "D.std()"
   ]
  },
  {
   "cell_type": "markdown",
   "metadata": {},
   "source": [
    "##### The column with highest standard deviation"
   ]
  },
  {
   "cell_type": "code",
   "execution_count": 188,
   "metadata": {},
   "outputs": [
    {
     "name": "stdout",
     "output_type": "stream",
     "text": [
      "Column with highest std. dev. is : b\n"
     ]
    }
   ],
   "source": [
    "print(\"Column with highest std. dev. is :\",D.columns[(D.std()).argmax()])"
   ]
  },
  {
   "cell_type": "markdown",
   "metadata": {},
   "source": [
    "##### Mean of a,b,c,d,e for all rows"
   ]
  },
  {
   "cell_type": "code",
   "execution_count": 190,
   "metadata": {},
   "outputs": [
    {
     "data": {
      "text/plain": [
       "0    1.448084\n",
       "1    1.482340\n",
       "2    1.345926\n",
       "3    1.507909\n",
       "4    1.603437\n",
       "dtype: float64"
      ]
     },
     "execution_count": 190,
     "metadata": {},
     "output_type": "execute_result"
    }
   ],
   "source": [
    "D.mean(axis='columns').head()"
   ]
  },
  {
   "cell_type": "markdown",
   "metadata": {},
   "source": [
    "##### row with minimum mean"
   ]
  },
  {
   "cell_type": "code",
   "execution_count": 192,
   "metadata": {},
   "outputs": [
    {
     "name": "stdout",
     "output_type": "stream",
     "text": [
      "The row with minimum mean has index  12\n"
     ]
    }
   ],
   "source": [
    "print(\"The row with minimum mean has index \",D.mean(axis='columns').argmin())"
   ]
  },
  {
   "cell_type": "markdown",
   "metadata": {},
   "source": [
    "#### 11) Add a new column to the dataframe called “f” which is the sum of the columns “a”, “b”, “c”, “d”, “e”. Create another column called “g”. The value in the column “g” should be “LT8” if the value in the column “f” is less than 8 and “GT8” otherwise. Find the number of rows in the dataframe where the value in the column “g” is “LT8”. Find the standard deviation of the column “f” for the rows where the value in the column “g” is “LT8” and “GT8” respectively."
   ]
  },
  {
   "cell_type": "markdown",
   "metadata": {},
   "source": [
    "##### Adding column 'f'"
   ]
  },
  {
   "cell_type": "code",
   "execution_count": 194,
   "metadata": {},
   "outputs": [
    {
     "data": {
      "text/html": [
       "<div>\n",
       "<style scoped>\n",
       "    .dataframe tbody tr th:only-of-type {\n",
       "        vertical-align: middle;\n",
       "    }\n",
       "\n",
       "    .dataframe tbody tr th {\n",
       "        vertical-align: top;\n",
       "    }\n",
       "\n",
       "    .dataframe thead th {\n",
       "        text-align: right;\n",
       "    }\n",
       "</style>\n",
       "<table border=\"1\" class=\"dataframe\">\n",
       "  <thead>\n",
       "    <tr style=\"text-align: right;\">\n",
       "      <th></th>\n",
       "      <th>a</th>\n",
       "      <th>b</th>\n",
       "      <th>c</th>\n",
       "      <th>d</th>\n",
       "      <th>e</th>\n",
       "      <th>f</th>\n",
       "    </tr>\n",
       "  </thead>\n",
       "  <tbody>\n",
       "    <tr>\n",
       "      <th>0</th>\n",
       "      <td>1.233081</td>\n",
       "      <td>1.319864</td>\n",
       "      <td>1.080084</td>\n",
       "      <td>1.766753</td>\n",
       "      <td>1.840640</td>\n",
       "      <td>7.240422</td>\n",
       "    </tr>\n",
       "    <tr>\n",
       "      <th>1</th>\n",
       "      <td>1.746974</td>\n",
       "      <td>1.263662</td>\n",
       "      <td>1.285128</td>\n",
       "      <td>1.926436</td>\n",
       "      <td>1.189499</td>\n",
       "      <td>7.411700</td>\n",
       "    </tr>\n",
       "    <tr>\n",
       "      <th>2</th>\n",
       "      <td>1.524891</td>\n",
       "      <td>1.583942</td>\n",
       "      <td>1.196542</td>\n",
       "      <td>1.132966</td>\n",
       "      <td>1.291286</td>\n",
       "      <td>6.729628</td>\n",
       "    </tr>\n",
       "    <tr>\n",
       "      <th>3</th>\n",
       "      <td>1.036298</td>\n",
       "      <td>1.966514</td>\n",
       "      <td>1.121429</td>\n",
       "      <td>1.746969</td>\n",
       "      <td>1.668335</td>\n",
       "      <td>7.539545</td>\n",
       "    </tr>\n",
       "    <tr>\n",
       "      <th>4</th>\n",
       "      <td>1.380449</td>\n",
       "      <td>1.987079</td>\n",
       "      <td>1.384848</td>\n",
       "      <td>1.762399</td>\n",
       "      <td>1.502413</td>\n",
       "      <td>8.017187</td>\n",
       "    </tr>\n",
       "  </tbody>\n",
       "</table>\n",
       "</div>"
      ],
      "text/plain": [
       "          a         b         c         d         e         f\n",
       "0  1.233081  1.319864  1.080084  1.766753  1.840640  7.240422\n",
       "1  1.746974  1.263662  1.285128  1.926436  1.189499  7.411700\n",
       "2  1.524891  1.583942  1.196542  1.132966  1.291286  6.729628\n",
       "3  1.036298  1.966514  1.121429  1.746969  1.668335  7.539545\n",
       "4  1.380449  1.987079  1.384848  1.762399  1.502413  8.017187"
      ]
     },
     "execution_count": 194,
     "metadata": {},
     "output_type": "execute_result"
    }
   ],
   "source": [
    "D['f'] = D['a']+D['b']+D['c']+D['d']+D['e']\n",
    "D.head()"
   ]
  },
  {
   "cell_type": "markdown",
   "metadata": {},
   "source": [
    "##### Adding column 'g'"
   ]
  },
  {
   "cell_type": "code",
   "execution_count": 196,
   "metadata": {},
   "outputs": [
    {
     "data": {
      "text/html": [
       "<div>\n",
       "<style scoped>\n",
       "    .dataframe tbody tr th:only-of-type {\n",
       "        vertical-align: middle;\n",
       "    }\n",
       "\n",
       "    .dataframe tbody tr th {\n",
       "        vertical-align: top;\n",
       "    }\n",
       "\n",
       "    .dataframe thead th {\n",
       "        text-align: right;\n",
       "    }\n",
       "</style>\n",
       "<table border=\"1\" class=\"dataframe\">\n",
       "  <thead>\n",
       "    <tr style=\"text-align: right;\">\n",
       "      <th></th>\n",
       "      <th>a</th>\n",
       "      <th>b</th>\n",
       "      <th>c</th>\n",
       "      <th>d</th>\n",
       "      <th>e</th>\n",
       "      <th>f</th>\n",
       "      <th>g</th>\n",
       "    </tr>\n",
       "  </thead>\n",
       "  <tbody>\n",
       "    <tr>\n",
       "      <th>0</th>\n",
       "      <td>1.233081</td>\n",
       "      <td>1.319864</td>\n",
       "      <td>1.080084</td>\n",
       "      <td>1.766753</td>\n",
       "      <td>1.840640</td>\n",
       "      <td>7.240422</td>\n",
       "      <td>LT8</td>\n",
       "    </tr>\n",
       "    <tr>\n",
       "      <th>1</th>\n",
       "      <td>1.746974</td>\n",
       "      <td>1.263662</td>\n",
       "      <td>1.285128</td>\n",
       "      <td>1.926436</td>\n",
       "      <td>1.189499</td>\n",
       "      <td>7.411700</td>\n",
       "      <td>LT8</td>\n",
       "    </tr>\n",
       "    <tr>\n",
       "      <th>2</th>\n",
       "      <td>1.524891</td>\n",
       "      <td>1.583942</td>\n",
       "      <td>1.196542</td>\n",
       "      <td>1.132966</td>\n",
       "      <td>1.291286</td>\n",
       "      <td>6.729628</td>\n",
       "      <td>LT8</td>\n",
       "    </tr>\n",
       "    <tr>\n",
       "      <th>3</th>\n",
       "      <td>1.036298</td>\n",
       "      <td>1.966514</td>\n",
       "      <td>1.121429</td>\n",
       "      <td>1.746969</td>\n",
       "      <td>1.668335</td>\n",
       "      <td>7.539545</td>\n",
       "      <td>LT8</td>\n",
       "    </tr>\n",
       "    <tr>\n",
       "      <th>4</th>\n",
       "      <td>1.380449</td>\n",
       "      <td>1.987079</td>\n",
       "      <td>1.384848</td>\n",
       "      <td>1.762399</td>\n",
       "      <td>1.502413</td>\n",
       "      <td>8.017187</td>\n",
       "      <td>GT8</td>\n",
       "    </tr>\n",
       "  </tbody>\n",
       "</table>\n",
       "</div>"
      ],
      "text/plain": [
       "          a         b         c         d         e         f    g\n",
       "0  1.233081  1.319864  1.080084  1.766753  1.840640  7.240422  LT8\n",
       "1  1.746974  1.263662  1.285128  1.926436  1.189499  7.411700  LT8\n",
       "2  1.524891  1.583942  1.196542  1.132966  1.291286  6.729628  LT8\n",
       "3  1.036298  1.966514  1.121429  1.746969  1.668335  7.539545  LT8\n",
       "4  1.380449  1.987079  1.384848  1.762399  1.502413  8.017187  GT8"
      ]
     },
     "execution_count": 196,
     "metadata": {},
     "output_type": "execute_result"
    }
   ],
   "source": [
    "D['g'] = 'GT8'\n",
    "D['g'].where(D['f']>8,'LT8',inplace=True)\n",
    "D.head()"
   ]
  },
  {
   "cell_type": "markdown",
   "metadata": {},
   "source": [
    "##### Number of rows with column g being 'LT8'"
   ]
  },
  {
   "cell_type": "code",
   "execution_count": 198,
   "metadata": {},
   "outputs": [
    {
     "data": {
      "text/plain": [
       "17"
      ]
     },
     "execution_count": 198,
     "metadata": {},
     "output_type": "execute_result"
    }
   ],
   "source": [
    "len(D[D['g']=='LT8'])"
   ]
  },
  {
   "cell_type": "markdown",
   "metadata": {},
   "source": [
    "##### Standard deviation for column f for rows with g being LT8 and GT8"
   ]
  },
  {
   "cell_type": "code",
   "execution_count": 199,
   "metadata": {},
   "outputs": [
    {
     "name": "stdout",
     "output_type": "stream",
     "text": [
      "For rows with g=LT8 : 0.48517831192629\n",
      "For rows with g=GT8 : 0.5164240583751355\n"
     ]
    }
   ],
   "source": [
    "print(\"For rows with g=LT8 :\",D['f'][(D['g']=='LT8')].std())\n",
    "print(\"For rows with g=GT8 :\",D['f'][(D['g']=='GT8')].std())"
   ]
  },
  {
   "cell_type": "markdown",
   "metadata": {},
   "source": [
    "#### 12) Write a small piece of code to explain broadcasting in numpy"
   ]
  },
  {
   "cell_type": "markdown",
   "metadata": {},
   "source": [
    "Consider an array x with shape (5,1)"
   ]
  },
  {
   "cell_type": "code",
   "execution_count": 202,
   "metadata": {},
   "outputs": [
    {
     "data": {
      "text/plain": [
       "array([[1],\n",
       "       [2],\n",
       "       [8],\n",
       "       [2],\n",
       "       [3]])"
      ]
     },
     "execution_count": 202,
     "metadata": {},
     "output_type": "execute_result"
    }
   ],
   "source": [
    "x = np.random.randint(0,10,(5,1))\n",
    "x"
   ]
  },
  {
   "cell_type": "markdown",
   "metadata": {},
   "source": [
    "and an array y with shape (4)"
   ]
  },
  {
   "cell_type": "code",
   "execution_count": 203,
   "metadata": {},
   "outputs": [
    {
     "data": {
      "text/plain": [
       "array([3, 4, 0, 4])"
      ]
     },
     "execution_count": 203,
     "metadata": {},
     "output_type": "execute_result"
    }
   ],
   "source": [
    "y = np.random.randint(0,10,4)\n",
    "y"
   ]
  },
  {
   "cell_type": "markdown",
   "metadata": {},
   "source": [
    "To perform element wise multiplication of x and y, numpy broadcasts the arrays. Basically, numpy does the computation as if the arrays x and y were of shape (5,4). "
   ]
  },
  {
   "cell_type": "code",
   "execution_count": 208,
   "metadata": {},
   "outputs": [
    {
     "data": {
      "text/plain": [
       "array([[ 3,  4,  0,  4],\n",
       "       [ 6,  8,  0,  8],\n",
       "       [24, 32,  0, 32],\n",
       "       [ 6,  8,  0,  8],\n",
       "       [ 9, 12,  0, 12]])"
      ]
     },
     "execution_count": 208,
     "metadata": {},
     "output_type": "execute_result"
    }
   ],
   "source": [
    "z = x*y\n",
    "z"
   ]
  },
  {
   "cell_type": "markdown",
   "metadata": {},
   "source": [
    "\n",
    "This output shape is obtained by 'stacking' the -1 axis of array x 4 times to match with size of -1 axis of y. \n",
    "\n",
    "Then, creating a new axis for y, making it of shape (1,4) and stacking the newly created -2 axis  5 times, so as to match with the size of axis 0 of x . "
   ]
  },
  {
   "cell_type": "code",
   "execution_count": 214,
   "metadata": {},
   "outputs": [
    {
     "name": "stdout",
     "output_type": "stream",
     "text": [
      "x.shape: [5, 1]\n",
      "y.shape:    [4]\n",
      "----------------\n",
      "z.shape: [5, 4]\n"
     ]
    }
   ],
   "source": [
    "\n",
    "print(\"x.shape:\",list(x.shape))\n",
    "print(\"y.shape:   \",list(y.shape))\n",
    "print(\"----------------\")\n",
    "print(\"z.shape:\",list(z.shape))"
   ]
  },
  {
   "cell_type": "markdown",
   "metadata": {},
   "source": [
    "The matching of axis happens from the innermost axis to outermost axis. For example, if x had shape (7,2,8) and y had shape (7,2) , we will have a mismatch."
   ]
  },
  {
   "cell_type": "code",
   "execution_count": 216,
   "metadata": {},
   "outputs": [
    {
     "name": "stdout",
     "output_type": "stream",
     "text": [
      "mismatch\n"
     ]
    }
   ],
   "source": [
    "x = np.random.randint(0,10,(7,2,8))\n",
    "y = np.random.randint(0,10,(7,2))\n",
    "try:\n",
    "    print(x*y)\n",
    "except:\n",
    "    print(\"mismatch\")"
   ]
  },
  {
   "cell_type": "markdown",
   "metadata": {},
   "source": [
    "#### 13) Write a function to compute the argmin of a numpy array. The function should take a numpy array as input and return the index of the minimum element. You can use the np.argmin function to verify your solution."
   ]
  },
  {
   "cell_type": "markdown",
   "metadata": {},
   "source": [
    "Since we are talking about THE minimum index, I assume it's for the flattened array, just as is the default case for np.argmin"
   ]
  },
  {
   "cell_type": "code",
   "execution_count": 225,
   "metadata": {},
   "outputs": [
    {
     "name": "stdout",
     "output_type": "stream",
     "text": [
      "accuracy : 100.0\n"
     ]
    }
   ],
   "source": [
    "def ArgMin(L):\n",
    "    if isinstance(L,np.ndarray):\n",
    "        L = L.flatten()\n",
    "    i = 0\n",
    "    min_i = 0\n",
    "    L = iter(L)\n",
    "    min_val = next(L)\n",
    "    for l in L:\n",
    "        i+= 1\n",
    "        if l < min_val:\n",
    "            min_i = i\n",
    "            min_val = l\n",
    "    return min_i\n",
    "correct = 0\n",
    "incorrect = 0\n",
    "for i in range(10):\n",
    "    x = np.random.random((10,2))\n",
    "    if ArgMin(x) == int(np.argmin(x)):\n",
    "        correct += 1\n",
    "    else:\n",
    "        incorrect += 1\n",
    "print(\"accuracy :\",100*correct/(correct+incorrect))"
   ]
  }
 ],
 "metadata": {
  "kernelspec": {
   "display_name": "Python 3",
   "language": "python",
   "name": "python3"
  },
  "language_info": {
   "codemirror_mode": {
    "name": "ipython",
    "version": 3
   },
   "file_extension": ".py",
   "mimetype": "text/x-python",
   "name": "python",
   "nbconvert_exporter": "python",
   "pygments_lexer": "ipython3",
   "version": "3.10.12"
  }
 },
 "nbformat": 4,
 "nbformat_minor": 2
}
